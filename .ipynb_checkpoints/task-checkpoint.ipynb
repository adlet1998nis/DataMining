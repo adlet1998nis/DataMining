{
 "cells": [
  {
   "cell_type": "code",
   "execution_count": 45,
   "metadata": {},
   "outputs": [],
   "source": [
    "import scholarly, pandas, re"
   ]
  },
  {
   "cell_type": "code",
   "execution_count": 46,
   "metadata": {},
   "outputs": [
    {
     "name": "stdout",
     "output_type": "stream",
     "text": [
      "{'_filled': False,\n",
      " 'bib': {'abstract': 'Together with an explosive growth of the mobile '\n",
      "                     'applications and emerging of cloud computing concept, '\n",
      "                     'mobile cloud computing (MCC) has been introduced to be a '\n",
      "                     'potential technology for mobile services. MCC integrates '\n",
      "                     'the cloud computing into the mobile  …',\n",
      "         'author': 'HT Dinh and C Lee and D Niyato…',\n",
      "         'eprint': 'https://onlinelibrary.wiley.com/doi/full/10.1002/wcm.1203',\n",
      "         'title': 'A survey of mobile cloud computing: architecture, '\n",
      "                  'applications, and approaches',\n",
      "         'url': 'https://onlinelibrary.wiley.com/doi/abs/10.1002/wcm.1203'},\n",
      " 'citedby': 2176,\n",
      " 'id_scholarcitedby': '7945736044310366686',\n",
      " 'source': 'scholar',\n",
      " 'url_scholarbib': 'https://scholar.googleusercontent.com/scholar.bib?q=info:3gkjgNXsRG4J:scholar.google.com/&output=citation&scisdr=CgXYVXsnENiugjnkSLk:AAGBfm0AAAAAXdfhULmtnjdCIUP-Tq55nCVsCkNwHR2K&scisig=AAGBfm0AAAAAXdfhULs7Ck2UlumCPF2Bbck47POAV56q&scisf=4&ct=citation&cd=0&hl=en'}\n"
     ]
    }
   ],
   "source": [
    "query = scholarly.search_pubs_query('mobile computing and applications')\n",
    "print(next(query))"
   ]
  },
  {
   "cell_type": "code",
   "execution_count": null,
   "metadata": {},
   "outputs": [],
   "source": [
    "import requests\n",
    "\n",
    "records = []\n",
    "for i in range(4):\n",
    "    next_query = next(query)\n",
    "    title = next_query.bib.get('title');\n",
    "    author = next_query.bib.get('author');\n",
    "    abstract = next_query.bib.get('abstract');\n",
    "    url = next_query.bib.get('url');\n",
    "    date = ''\n",
    "    try:\n",
    "        url_sci_hub = 'https://sci-hub.se/'\n",
    "        url_sci_hub += url\n",
    "        soup_object = requests.get(url_sci_hub).text\n",
    "        soup_object = str(soup_object)\n",
    "        match = re.search(r'(\\(\\b(19|20)\\d{2}\\b\\))', soup_object)\n",
    "        year = soup_object[match.start():match.end()]\n",
    "        date = year[1:5]\n",
    "    except:\n",
    "        date = 'NaN'\n",
    "    records.append((title, author, abstract, url, date))"
   ]
  },
  {
   "cell_type": "code",
   "execution_count": 13,
   "metadata": {},
   "outputs": [
    {
     "data": {
      "text/plain": [
       "[('Context-aware computing applications',\n",
       "  'B Schilit and N Adams and R Want',\n",
       "  \"This paper describes systems that examine and react to an individual's changing context. Such systems can promote and mediate people's interactions with devices, computers, and other people, and they can help navigate unfamiliar places. We believe that a limited …\",\n",
       "  'https://ieeexplore.ieee.org/abstract/document/4624429/',\n",
       "  'NaN'),\n",
       " ('A survey of fog computing: concepts, applications and issues',\n",
       "  'S Yi and C Li and Q Li',\n",
       "  'Despite the increasing usage of cloud computing, there are still issues unsolved due to inherent problems of cloud computing such as unreliable latency, lack of mobility support and location-awareness. Fog computing can address those problems by providing elastic …',\n",
       "  'https://dl.acm.org/citation.cfm?id=2757397',\n",
       "  'NaN')]"
      ]
     },
     "execution_count": 13,
     "metadata": {},
     "output_type": "execute_result"
    }
   ],
   "source": [
    "records[0:2]"
   ]
  },
  {
   "cell_type": "code",
   "execution_count": 7,
   "metadata": {},
   "outputs": [],
   "source": [
    "import pandas as pd\n",
    "data = pd.DataFrame(records, columns=['title', 'author', 'abstract', 'url'])"
   ]
  },
  {
   "cell_type": "code",
   "execution_count": 8,
   "metadata": {},
   "outputs": [
    {
     "data": {
      "text/html": [
       "<div>\n",
       "<style scoped>\n",
       "    .dataframe tbody tr th:only-of-type {\n",
       "        vertical-align: middle;\n",
       "    }\n",
       "\n",
       "    .dataframe tbody tr th {\n",
       "        vertical-align: top;\n",
       "    }\n",
       "\n",
       "    .dataframe thead th {\n",
       "        text-align: right;\n",
       "    }\n",
       "</style>\n",
       "<table border=\"1\" class=\"dataframe\">\n",
       "  <thead>\n",
       "    <tr style=\"text-align: right;\">\n",
       "      <th></th>\n",
       "      <th>title</th>\n",
       "      <th>author</th>\n",
       "      <th>abstract</th>\n",
       "      <th>url</th>\n",
       "    </tr>\n",
       "  </thead>\n",
       "  <tbody>\n",
       "    <tr>\n",
       "      <th>0</th>\n",
       "      <td>Context-aware computing applications</td>\n",
       "      <td>B Schilit and N Adams and R Want</td>\n",
       "      <td>This paper describes systems that examine and ...</td>\n",
       "      <td>https://ieeexplore.ieee.org/abstract/document/...</td>\n",
       "    </tr>\n",
       "    <tr>\n",
       "      <th>1</th>\n",
       "      <td>A survey of fog computing: concepts, applicati...</td>\n",
       "      <td>S Yi and C Li and Q Li</td>\n",
       "      <td>Despite the increasing usage of cloud computin...</td>\n",
       "      <td>https://dl.acm.org/citation.cfm?id=2757397</td>\n",
       "    </tr>\n",
       "    <tr>\n",
       "      <th>2</th>\n",
       "      <td>The PARCTAB mobile computing system</td>\n",
       "      <td>BN Schilit and N Adams and R Gold and MM Tso…</td>\n",
       "      <td>… area. A distinguished application, the “shel...</td>\n",
       "      <td>http://citeseerx.ist.psu.edu/viewdoc/download?...</td>\n",
       "    </tr>\n",
       "    <tr>\n",
       "      <th>3</th>\n",
       "      <td>A programming interface for application-aware ...</td>\n",
       "      <td>B Noble and M Price and M Satyanarayanan</td>\n",
       "      <td>… We are now working toward a more complete an...</td>\n",
       "      <td>http://static.usenix.org/publications/library/...</td>\n",
       "    </tr>\n",
       "    <tr>\n",
       "      <th>4</th>\n",
       "      <td>Mobile computing device application network us...</td>\n",
       "      <td>B Liu and B Khorashadi and SM Das</td>\n",
       "      <td>A mobile computing device comprising an applic...</td>\n",
       "      <td>https://patents.google.com/patent/US8478233B2/en</td>\n",
       "    </tr>\n",
       "  </tbody>\n",
       "</table>\n",
       "</div>"
      ],
      "text/plain": [
       "                                               title  \\\n",
       "0               Context-aware computing applications   \n",
       "1  A survey of fog computing: concepts, applicati...   \n",
       "2                The PARCTAB mobile computing system   \n",
       "3  A programming interface for application-aware ...   \n",
       "4  Mobile computing device application network us...   \n",
       "\n",
       "                                          author  \\\n",
       "0               B Schilit and N Adams and R Want   \n",
       "1                         S Yi and C Li and Q Li   \n",
       "2  BN Schilit and N Adams and R Gold and MM Tso…   \n",
       "3       B Noble and M Price and M Satyanarayanan   \n",
       "4              B Liu and B Khorashadi and SM Das   \n",
       "\n",
       "                                            abstract  \\\n",
       "0  This paper describes systems that examine and ...   \n",
       "1  Despite the increasing usage of cloud computin...   \n",
       "2  … area. A distinguished application, the “shel...   \n",
       "3  … We are now working toward a more complete an...   \n",
       "4  A mobile computing device comprising an applic...   \n",
       "\n",
       "                                                 url  \n",
       "0  https://ieeexplore.ieee.org/abstract/document/...  \n",
       "1         https://dl.acm.org/citation.cfm?id=2757397  \n",
       "2  http://citeseerx.ist.psu.edu/viewdoc/download?...  \n",
       "3  http://static.usenix.org/publications/library/...  \n",
       "4   https://patents.google.com/patent/US8478233B2/en  "
      ]
     },
     "execution_count": 8,
     "metadata": {},
     "output_type": "execute_result"
    }
   ],
   "source": [
    "data.head()"
   ]
  }
 ],
 "metadata": {
  "kernelspec": {
   "display_name": "myenv3",
   "language": "python",
   "name": "myenv3"
  },
  "language_info": {
   "codemirror_mode": {
    "name": "ipython",
    "version": 3
   },
   "file_extension": ".py",
   "mimetype": "text/x-python",
   "name": "python",
   "nbconvert_exporter": "python",
   "pygments_lexer": "ipython3",
   "version": "3.7.4"
  }
 },
 "nbformat": 4,
 "nbformat_minor": 2
}
