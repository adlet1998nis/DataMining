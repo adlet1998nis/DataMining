{
 "cells": [
  {
   "cell_type": "code",
   "execution_count": 1,
   "metadata": {},
   "outputs": [],
   "source": [
    "from bs4 import BeautifulSoup\n",
    "import requests\n",
    "import re\n",
    "from tqdm import tqdm\n",
    "import scholarly\n",
    "import pandas as pd\n",
    "import numpy as np\n",
    "import math\n",
    "\n",
    "import io\n",
    "import requests\n",
    "import PyPDF2\n",
    "from PyPDF2 import PdfFileReader, utils\n",
    "from bs4 import BeautifulSoup\n",
    "import urllib.request as urllib2\n",
    "from tqdm import tqdm\n",
    "\n",
    "from io import StringIO\n",
    "import subprocess\n",
    "\n",
    "# import os\n",
    "# from os import startfile\n",
    "from psutil import process_iter\n",
    "import time\n",
    "from time import sleep\n",
    "\n",
    "import matplotlib.pyplot as plt\n",
    "import textract\n",
    "import slate3k as slate\n",
    "\n",
    "from pdfminer.layout import LAParams\n",
    "from pdfminer.pdfinterp  import PDFResourceManager\n",
    "from pdfminer.pdfinterp  import PDFPageInterpreter\n",
    "\n",
    "from pdfminer.converter import PDFPageAggregator\n",
    "\n",
    "from pdfminer.pdfpage import PDFPage\n",
    "from pdfminer.layout import LTTextBoxHorizontal\n",
    "from urllib.parse import urljoin"
   ]
  },
  {
   "cell_type": "code",
   "execution_count": 2,
   "metadata": {},
   "outputs": [],
   "source": [
    "def get_text(url):\n",
    "    r = requests.get(url)\n",
    "    f = io.BytesIO(r.content)\n",
    "    document = f\n",
    "    rsrcmgr = PDFResourceManager()\n",
    "    laparams = LAParams()\n",
    "    device = PDFPageAggregator(rsrcmgr, laparams=laparams)\n",
    "    interpreter = PDFPageInterpreter(rsrcmgr, device)\n",
    "    content = ''\n",
    "    for page in PDFPage.get_pages(document):\n",
    "        interpreter.process_page(page)\n",
    "        layout = device.get_result()\n",
    "        for element in layout:\n",
    "            if isinstance(element, LTTextBoxHorizontal):\n",
    "                content = content + element.get_text().replace('\\n', \" \")\n",
    "    return content"
   ]
  },
  {
   "cell_type": "code",
   "execution_count": 3,
   "metadata": {},
   "outputs": [
    {
     "name": "stderr",
     "output_type": "stream",
     "text": [
      "100%|██████████| 35/35 [02:04<00:00,  3.56s/it]\n"
     ]
    }
   ],
   "source": [
    "main_url = r'https://citeseerx.ist.psu.edu/search?q=mobile+computing+and+applications&submit.x=0&submit.y=0&sort=rlv&t=doc'\n",
    "page = BeautifulSoup(requests.get(main_url).text, 'html.parser')\n",
    "article_urls = []\n",
    "for _ in tqdm(range(35)):\n",
    "    next_page_url = urljoin(main_url, page.find('div', id='pager').find('a').get('href'))\n",
    "    for url in page.find_all('div', class_='result'):\n",
    "        article_urls.append(urljoin(main_url, url.find('a').get('href')))\n",
    "    page =  BeautifulSoup(requests.get(next_page_url).text, 'html.parser')"
   ]
  },
  {
   "cell_type": "code",
   "execution_count": 4,
   "metadata": {},
   "outputs": [
    {
     "name": "stderr",
     "output_type": "stream",
     "text": [
      "100%|██████████| 350/350 [1:00:36<00:00, 10.39s/it]\n"
     ]
    }
   ],
   "source": [
    "records = []\n",
    "for i in tqdm(range(len(article_urls))):\n",
    "    page = BeautifulSoup(requests.get(article_urls[i]).text, features=\"html\")\n",
    "    try:\n",
    "        title = page.find_all('meta')[4].get('content')\n",
    "    except:\n",
    "        title = 'null'\n",
    "    try:\n",
    "        date = page.find_all('meta')[6].get('content')\n",
    "    except:\n",
    "        date = 'null'\n",
    "    try:\n",
    "        author = page.find_all('meta')[5].get('content')\n",
    "    except:\n",
    "        author = 'nan'\n",
    "    keywords = []\n",
    "    keys = page.find('div', id = 'keywords').find_all('a')\n",
    "    for k in keys:\n",
    "        keywords.append(k.get_text())\n",
    "    try:\n",
    "        abstract = page.find('div', id='abstract').find('p').get_text()\n",
    "    except:\n",
    "        abstract = 'nan'\n",
    "    try:\n",
    "        url = next(scholarly.search_pubs_query(title)).bib.get('eprint')\n",
    "    except:\n",
    "        url = 'nan'    \n",
    "    records.append([title, date, author, keywords, abstract, url])"
   ]
  },
  {
   "cell_type": "code",
   "execution_count": null,
   "metadata": {},
   "outputs": [],
   "source": [
    "for i in range(len(records)):\n",
    "    try:\n",
    "        records[i].append(get_text(records[i][5]))\n",
    "    except:\n",
    "        records[i].append('null')"
   ]
  },
  {
   "cell_type": "code",
   "execution_count": 1,
   "metadata": {},
   "outputs": [
    {
     "ename": "NameError",
     "evalue": "name 'kek' is not defined",
     "output_type": "error",
     "traceback": [
      "\u001b[0;31m---------------------------------------------------------------------------\u001b[0m",
      "\u001b[0;31mNameError\u001b[0m                                 Traceback (most recent call last)",
      "\u001b[0;32m<ipython-input-1-8ccd5f33c382>\u001b[0m in \u001b[0;36m<module>\u001b[0;34m\u001b[0m\n\u001b[0;32m----> 1\u001b[0;31m \u001b[0mprint\u001b[0m\u001b[0;34m(\u001b[0m\u001b[0mkek\u001b[0m\u001b[0;34m[\u001b[0m\u001b[0;34m'texts'\u001b[0m\u001b[0;34m]\u001b[0m\u001b[0;34m)\u001b[0m\u001b[0;34m\u001b[0m\u001b[0;34m\u001b[0m\u001b[0m\n\u001b[0m",
      "\u001b[0;31mNameError\u001b[0m: name 'kek' is not defined"
     ]
    }
   ],
   "source": [
    "# data = pd.DataFrame(records, columns=['title', 'date', 'author', 'keywords', 'abstract', 'url', 'text'])"
   ]
  },
  {
   "cell_type": "code",
   "execution_count": 2,
   "metadata": {},
   "outputs": [
    {
     "ename": "NameError",
     "evalue": "name 'kek' is not defined",
     "output_type": "error",
     "traceback": [
      "\u001b[0;31m---------------------------------------------------------------------------\u001b[0m",
      "\u001b[0;31mNameError\u001b[0m                                 Traceback (most recent call last)",
      "\u001b[0;32m<ipython-input-2-e9ae732bafae>\u001b[0m in \u001b[0;36m<module>\u001b[0;34m\u001b[0m\n\u001b[0;32m----> 1\u001b[0;31m \u001b[0mprint\u001b[0m\u001b[0;34m(\u001b[0m\u001b[0mkek\u001b[0m\u001b[0;34m.\u001b[0m\u001b[0mhead\u001b[0m\u001b[0;34m(\u001b[0m\u001b[0;34m)\u001b[0m\u001b[0;34m)\u001b[0m\u001b[0;34m\u001b[0m\u001b[0;34m\u001b[0m\u001b[0m\n\u001b[0m",
      "\u001b[0;31mNameError\u001b[0m: name 'kek' is not defined"
     ]
    }
   ],
   "source": [
    "print(kek.head())"
   ]
  },
  {
   "cell_type": "code",
   "execution_count": null,
   "metadata": {},
   "outputs": [],
   "source": []
  }
 ],
 "metadata": {
  "kernelspec": {
   "display_name": "myenv3",
   "language": "python",
   "name": "myenv3"
  },
  "language_info": {
   "codemirror_mode": {
    "name": "ipython",
    "version": 3
   },
   "file_extension": ".py",
   "mimetype": "text/x-python",
   "name": "python",
   "nbconvert_exporter": "python",
   "pygments_lexer": "ipython3",
   "version": "3.7.4"
  }
 },
 "nbformat": 4,
 "nbformat_minor": 2
}
