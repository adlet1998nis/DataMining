{
 "cells": [
  {
   "cell_type": "code",
   "execution_count": 1,
   "metadata": {},
   "outputs": [],
   "source": [
    "from bs4 import BeautifulSoup\n",
    "import requests\n",
    "import re\n",
    "from tqdm import tqdm\n",
    "import scholarly\n",
    "import pandas as pd\n",
    "import numpy as np\n",
    "import math\n",
    "\n",
    "import io\n",
    "import requests\n",
    "import PyPDF2\n",
    "from PyPDF2 import PdfFileReader, utils\n",
    "from bs4 import BeautifulSoup\n",
    "import urllib.request as urllib2\n",
    "from tqdm import tqdm\n",
    "\n",
    "from io import StringIO\n",
    "import subprocess\n",
    "\n",
    "from psutil import process_iter\n",
    "import time\n",
    "from time import sleep\n",
    "\n",
    "import matplotlib.pyplot as plt\n",
    "import textract\n",
    "import slate3k as slate\n",
    "\n",
    "from pdfminer.layout import LAParams\n",
    "from pdfminer.pdfinterp  import PDFResourceManager\n",
    "from pdfminer.pdfinterp  import PDFPageInterpreter\n",
    "\n",
    "from pdfminer.converter import PDFPageAggregator\n",
    "\n",
    "from pdfminer.pdfpage import PDFPage\n",
    "from pdfminer.layout import LTTextBoxHorizontal\n",
    "from urllib.parse import urljoin"
   ]
  },
  {
   "cell_type": "code",
   "execution_count": 2,
   "metadata": {},
   "outputs": [],
   "source": [
    "def get_text(url):\n",
    "    r = requests.get(url)\n",
    "    f = io.BytesIO(r.content)\n",
    "    document = f\n",
    "    rsrcmgr = PDFResourceManager()\n",
    "    laparams = LAParams()\n",
    "    device = PDFPageAggregator(rsrcmgr, laparams=laparams)\n",
    "    interpreter = PDFPageInterpreter(rsrcmgr, device)\n",
    "    content = ''\n",
    "    for page in PDFPage.get_pages(document):\n",
    "        interpreter.process_page(page)\n",
    "        layout = device.get_result()\n",
    "        for element in layout:\n",
    "            if isinstance(element, LTTextBoxHorizontal):\n",
    "                content = content + element.get_text().replace('\\n', \" \")\n",
    "    return content"
   ]
  },
  {
   "cell_type": "code",
   "execution_count": 3,
   "metadata": {},
   "outputs": [
    {
     "name": "stderr",
     "output_type": "stream",
     "text": [
      "100%|██████████| 21/21 [01:04<00:00,  3.09s/it]\n"
     ]
    }
   ],
   "source": [
    "main_url = r'https://citeseerx.ist.psu.edu/search?q=mobile+computing+and+applications&submit.x=0&submit.y=0&sort=rlv&t=doc'\n",
    "page = BeautifulSoup(requests.get(main_url).text, 'html.parser')\n",
    "article_urls = []\n",
    "for _ in tqdm(range(21)):\n",
    "    next_page_url = urljoin(main_url, page.find('div', id='pager').find('a').get('href'))\n",
    "    for url in page.find_all('div', class_='result'):\n",
    "        article_urls.append(urljoin(main_url, url.find('a').get('href')))\n",
    "    page =  BeautifulSoup(requests.get(next_page_url).text, 'html.parser')"
   ]
  },
  {
   "cell_type": "code",
   "execution_count": 4,
   "metadata": {},
   "outputs": [
    {
     "name": "stderr",
     "output_type": "stream",
     "text": [
      "100%|██████████| 210/210 [08:47<00:00,  2.51s/it]\n"
     ]
    }
   ],
   "source": [
    "titles = []\n",
    "authors = []\n",
    "dates = []\n",
    "abstracts = []\n",
    "urls = []\n",
    "keyWord = []\n",
    "\n",
    "for i in tqdm(range(len(article_urls))):\n",
    "    page = BeautifulSoup(requests.get(article_urls[i]).text, 'lxml')\n",
    "    try:\n",
    "        titles.append(page.find_all('meta')[4].get('content'))\n",
    "    except:\n",
    "        titles.append('null')\n",
    "    try:\n",
    "        authors.append(page.find_all('meta')[5].get('content'))\n",
    "    except:\n",
    "        authors.append('null')\n",
    "    try:\n",
    "        dates.append(page.find_all('meta')[6].get('content'))\n",
    "    except:\n",
    "        dates.append('null')\n",
    "    try:\n",
    "        abstracts.append(page.find('div', id='abstract').find('p').get_text())\n",
    "    except:\n",
    "        abstracts.append('null')\n",
    "    try:\n",
    "        urls.append(page.find('ul', id='clinks').find('a').get('href'))\n",
    "    except:\n",
    "        urls.append('null')\n",
    "    key_words = []\n",
    "    keys = page.find('div', id = 'keywords').find_all('a')\n",
    "    for k in keys:\n",
    "        key_words.append(k.get_text())\n",
    "    keyWord.append(key_words)\n",
    "\n",
    "kek = pd.DataFrame(\n",
    "{\n",
    "    'title': titles,\n",
    "    'date': dates,\n",
    "    'author':authors,\n",
    "    'keywords': keyWord,\n",
    "    'abstract': abstracts,\n",
    "    'url': urls,\n",
    "})"
   ]
  },
  {
   "cell_type": "code",
   "execution_count": 5,
   "metadata": {},
   "outputs": [],
   "source": [
    "article_url = 'https://citeseerx.ist.psu.edu' + kek.url.values"
   ]
  },
  {
   "cell_type": "code",
   "execution_count": 6,
   "metadata": {},
   "outputs": [
    {
     "name": "stderr",
     "output_type": "stream",
     "text": [
      "100%|██████████| 210/210 [56:26<00:00, 16.13s/it]   \n"
     ]
    }
   ],
   "source": [
    "texts = []\n",
    "new_urls = []\n",
    "for i in tqdm(article_url):\n",
    "    try:\n",
    "        texts.append(get_text(i))\n",
    "        new_urls.append(i)\n",
    "    except:\n",
    "        texts.append('null')\n",
    "        new_urls.append('null')\n",
    "kek['text'] = texts\n",
    "kek['url'] = new_urls"
   ]
  },
  {
   "cell_type": "code",
   "execution_count": 7,
   "metadata": {},
   "outputs": [],
   "source": [
    "kek.to_csv('adlet_extra.csv', index = False)"
   ]
  },
  {
   "cell_type": "code",
   "execution_count": null,
   "metadata": {},
   "outputs": [],
   "source": []
  }
 ],
 "metadata": {
  "kernelspec": {
   "display_name": "myenv3",
   "language": "python",
   "name": "myenv3"
  },
  "language_info": {
   "codemirror_mode": {
    "name": "ipython",
    "version": 3
   },
   "file_extension": ".py",
   "mimetype": "text/x-python",
   "name": "python",
   "nbconvert_exporter": "python",
   "pygments_lexer": "ipython3",
   "version": "3.7.4"
  }
 },
 "nbformat": 4,
 "nbformat_minor": 2
}
